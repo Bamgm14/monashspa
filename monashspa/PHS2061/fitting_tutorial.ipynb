{
 "cells": [
  {
   "cell_type": "code",
   "execution_count": null,
   "id": "hungry-amount",
   "metadata": {},
   "outputs": [],
   "source": [
    "# Copyright 2019 School of Physics & Astronomy, Monash University\n",
    "#\n",
    "# This file is part of monashspa.\n",
    "#\n",
    "# monashspa is free software: you can redistribute it and/or modify\n",
    "# it under the terms of the GNU General Public License as published by\n",
    "# the Free Software Foundation, either version 3 of the License, or\n",
    "# (at your option) any later version.\n",
    "#\n",
    "# monashspa is distributed in the hope that it will be useful,\n",
    "# but WITHOUT ANY WARRANTY; without even the implied warranty of\n",
    "# MERCHANTABILITY or FITNESS FOR A PARTICULAR PURPOSE.  See the\n",
    "# GNU General Public License for more details.\n",
    "#\n",
    "# You should have received a copy of the GNU General Public License\n",
    "# along with monashspa.  If not, see <http://www.gnu.org/licenses/>.\n",
    "\n",
    "!pip install monashspa"
   ]
  },
  {
   "cell_type": "code",
   "execution_count": null,
   "id": "looking-oracle",
   "metadata": {},
   "outputs": [],
   "source": [
    "import os\n",
    "import pandas\n",
    "\n",
    "try:\n",
    "    __filepath = os.path.join(os.path.dirname(os.path.realpath(__file__)), 'PHS20x1UncertaintiesData.csv')\n",
    "    data = pandas.read_csv(__filepath, usecols=[0,1,2])\n",
    "    data = data.to_numpy()\n",
    "except:\n",
    "    data = \"Warning: failed to import data from csv file. Possibly the monashspa library is not installed correctly.\""
   ]
  },
  {
   "cell_type": "code",
   "execution_count": null,
   "id": "vietnamese-complement",
   "metadata": {},
   "outputs": [],
   "source": []
  }
 ],
 "metadata": {
  "kernelspec": {
   "display_name": "Python 3",
   "language": "python",
   "name": "python3"
  },
  "language_info": {
   "codemirror_mode": {
    "name": "ipython",
    "version": 3
   },
   "file_extension": ".py",
   "mimetype": "text/x-python",
   "name": "python",
   "nbconvert_exporter": "python",
   "pygments_lexer": "ipython3",
   "version": "3.8.10"
  }
 },
 "nbformat": 4,
 "nbformat_minor": 5
}
